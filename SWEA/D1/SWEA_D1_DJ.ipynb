{
  "nbformat": 4,
  "nbformat_minor": 0,
  "metadata": {
    "colab": {
      "name": "SWEA D1",
      "provenance": [],
      "toc_visible": true,
      "authorship_tag": "ABX9TyP9Ci18XrQHr/VDO+Sm3D6F",
      "include_colab_link": true
    },
    "kernelspec": {
      "name": "python3",
      "display_name": "Python 3"
    },
    "language_info": {
      "name": "python"
    }
  },
  "cells": [
    {
      "cell_type": "markdown",
      "metadata": {
        "id": "view-in-github",
        "colab_type": "text"
      },
      "source": [
        "<a href=\"https://colab.research.google.com/github/cjfal/TIL/blob/master/SWEA_D1_DJ.ipynb\" target=\"_parent\"><img src=\"https://colab.research.google.com/assets/colab-badge.svg\" alt=\"Open In Colab\"/></a>"
      ]
    },
    {
      "cell_type": "markdown",
      "source": [
        "# 기본 제공코드는 임의 수정해도 관계 없습니다. 단, 입출력 포맷 주의\n",
        "# 아래 표준 입출력 예제 필요시 참고하세요.\n",
        "\n",
        "# 표준 입력 예제\n",
        "'''\n",
        "a = int(input())                        정수형 변수 1개 입력 받는 예제\n",
        "b, c = map(int, input().split())        정수형 변수 2개 입력 받는 예제 \n",
        "d = float(input())                      실수형 변수 1개 입력 받는 예제\n",
        "e, f, g = map(float, input().split())   실수형 변수 3개 입력 받는 예제\n",
        "h = input()                             문자열 변수 1개 입력 받는 예제\n",
        "'''\n",
        "\n",
        "# 표준 출력 예제\n",
        "'''\n",
        "a, b = 6, 3\n",
        "c, d, e = 1.0, 2.5, 3.4\n",
        "f = \"ABC\"\n",
        "print(a)                                정수형 변수 1개 출력하는 예제\n",
        "print(b, end = \" \")                     줄바꿈 하지 않고 정수형 변수와 공백을 출력하는 예제\n",
        "print(c, d, e)                          실수형 변수 3개 출력하는 예제\n",
        "print(f)                                문자열 1개 출력하는 예제\n",
        "'''\n",
        "\n",
        "import sys\n",
        "\n",
        "\n",
        "'''\n",
        "      아래의 구문은 input.txt 를 read only 형식으로 연 후,\n",
        "      앞으로 표준 입력(키보드) 대신 input.txt 파일로부터 읽어오겠다는 의미의 코드입니다.\n",
        "      여러분이 작성한 코드를 테스트 할 때, 편의를 위해서 input.txt에 입력을 저장한 후,\n",
        "      아래 구문을 이용하면 이후 입력을 수행할 때 표준 입력 대신 파일로부터 입력을 받아올 수 있습니다.\n",
        "\n",
        "      따라서 테스트를 수행할 때에는 아래 주석을 지우고 이 구문을 사용하셔도 좋습니다.\n",
        "      아래 구문을 사용하기 위해서는 import sys가 필요합니다.\n",
        "\n",
        "      단, 채점을 위해 코드를 제출하실 때에는 반드시 아래 구문을 지우거나 주석 처리 하셔야 합니다.\n",
        "'''\n",
        "#sys.stdin = open(\"input.txt\", \"r\")\n",
        "\n",
        "T = int(input())\n",
        "# 여러개의 테스트 케이스가 주어지므로, 각각을 처리합니다.\n",
        "for test_case in range(1, T + 1):\n",
        "    # ///////////////////////////////////////////////////////////////////////////////////\n",
        "    '''\n",
        "\n",
        "        이 부분에 여러분의 알고리즘 구현이 들어갑니다.\n",
        "\n",
        "    '''\n",
        "    # ///////////////////////////////////////////////////////////////////////////////////\n"
      ],
      "metadata": {
        "id": "tToUcN_LCnH2"
      }
    },
    {
      "cell_type": "markdown",
      "source": [
        "________________"
      ],
      "metadata": {
        "id": "83JVxZ5rVPWH"
      }
    },
    {
      "cell_type": "markdown",
      "source": [
        "# D1 : 1936. 1대1 가위바위보"
      ],
      "metadata": {
        "id": "gZTwZVvBCNsc"
      }
    },
    {
      "cell_type": "code",
      "execution_count": null,
      "metadata": {
        "colab": {
          "base_uri": "https://localhost:8080/"
        },
        "id": "tgCev8Vl5_0o",
        "outputId": "c76f814e-bc5e-4b3f-ac86-7c381dc405ea"
      },
      "outputs": [
        {
          "output_type": "stream",
          "name": "stdout",
          "text": [
            "3 2\n",
            "A\n"
          ]
        }
      ],
      "source": [
        "A, B = map(int, input().split())\n",
        "\n",
        "if A-B == 1 or -2:\n",
        "  print('A')\n",
        "else:\n",
        "  print('B')"
      ]
    },
    {
      "cell_type": "markdown",
      "source": [
        "__________________________________"
      ],
      "metadata": {
        "id": "qN2Teq5vHEo_"
      }
    },
    {
      "cell_type": "markdown",
      "source": [
        "# D1 : 2058. 자릿수 더하기"
      ],
      "metadata": {
        "id": "1RlqA8sjB4vB"
      }
    },
    {
      "cell_type": "code",
      "source": [
        ""
      ],
      "metadata": {
        "id": "M_o_3vFdpDSd"
      },
      "execution_count": null,
      "outputs": []
    },
    {
      "cell_type": "code",
      "source": [
        "# 마지막 제출 코드\n",
        "num = int(input())\n",
        "numstr = list(str(num))\n",
        "temp = []\n",
        "\n",
        "for i in range(0,len(numstr)):\n",
        "  temp.append(int(numstr[i]))\n",
        "\n",
        "print(sum(temp))"
      ],
      "metadata": {
        "colab": {
          "base_uri": "https://localhost:8080/"
        },
        "id": "0f0aLwQ96_oP",
        "outputId": "623184ff-52ff-466e-ea87-e5f026f0df7d"
      },
      "execution_count": null,
      "outputs": [
        {
          "name": "stdout",
          "output_type": "stream",
          "text": [
            "67891\n"
          ]
        },
        {
          "output_type": "execute_result",
          "data": {
            "text/plain": [
              "31"
            ]
          },
          "metadata": {},
          "execution_count": 27
        }
      ]
    },
    {
      "cell_type": "code",
      "source": [
        "num = int(input())\n",
        "numstr = str(num)\n",
        "temp = 0\n",
        "\n",
        "for i in numstr:\n",
        "    temp = temp + int(i)\n",
        "\n",
        "print(temp)"
      ],
      "metadata": {
        "colab": {
          "base_uri": "https://localhost:8080/"
        },
        "id": "pUAKuZ-dCbf_",
        "outputId": "c4778f80-59cc-4d56-cc7f-29b28c2ebc0b"
      },
      "execution_count": null,
      "outputs": [
        {
          "output_type": "stream",
          "name": "stdout",
          "text": [
            "6789\n",
            "30\n"
          ]
        }
      ]
    },
    {
      "cell_type": "code",
      "source": [
        "num = int(input())\n",
        "str1 = str(num)\n",
        "\n"
      ],
      "metadata": {
        "colab": {
          "base_uri": "https://localhost:8080/",
          "height": 54
        },
        "id": "3LE2Az82GMQS",
        "outputId": "c262a94d-e57d-45ac-a932-bec323267065"
      },
      "execution_count": null,
      "outputs": [
        {
          "name": "stdout",
          "output_type": "stream",
          "text": [
            "6789\n"
          ]
        },
        {
          "output_type": "execute_result",
          "data": {
            "text/plain": [
              "'6'"
            ],
            "application/vnd.google.colaboratory.intrinsic+json": {
              "type": "string"
            }
          },
          "metadata": {},
          "execution_count": 34
        }
      ]
    },
    {
      "cell_type": "markdown",
      "source": [
        "\n",
        "________________________"
      ],
      "metadata": {
        "id": "orh0mBMfGUe0"
      }
    },
    {
      "cell_type": "code",
      "source": [
        ""
      ],
      "metadata": {
        "id": "hbIjIii5pDWk"
      },
      "execution_count": null,
      "outputs": []
    },
    {
      "cell_type": "markdown",
      "source": [
        "# D1 : 2063. 중간값 찾기\n",
        "\n",
        "199\n",
        "\n",
        "\n",
        "85 72 38 80 69 65 68 96 22 49 67 51 61 63 87 66 24 80 83 71 60 64 52 90 60 49 31 23 \n",
        "99 94 11 25 24 51 15 13 39 67 97 19 76 12 33 99 18 92 35 74 0 95 71 39 33 39 32 37 45 \n",
        "57 71 95 5 71 24 86 8 51 54 74 24 75 70 33 63 29 99 59 94 52 13 35 99 46 57 71 23 17 \n",
        "3 94 48 77 18 83 11 83 25 59 62 2 78 86 7 94 65 80 32 39 84 60 65 72 61 58 84 8 72 12 \n",
        "19 47 49 49 59 71 52 34 22 21 20 92 33 80 39 74 9 28 97 100 93 29 25 4 66 79 81 98 21 \n",
        "91 62 82 4 59 100 34 1 51 80 92 69 77 39 38 97 51 34 35 19 22 1 67 9 90 31 82 11 51 \n",
        "84 78 70 74 42 100 88 53 80 57 62 32 51 48 63 92 46 4 61 31 98 69 52 88 20"
      ],
      "metadata": {
        "id": "s6Fk1Y5ECtuu"
      }
    },
    {
      "cell_type": "code",
      "source": [
        "# 제출코드\n",
        "N = int(input())\n",
        "nums = list(map(int, input().split()))\n",
        "nums.sort()\n",
        "\n",
        "i = N//2\n",
        "\n",
        "print(nums[i])"
      ],
      "metadata": {
        "id": "qYki-79mHDU4",
        "colab": {
          "base_uri": "https://localhost:8080/"
        },
        "outputId": "ab4fadef-54b0-48f5-cc1c-9d2ff405e1c2"
      },
      "execution_count": null,
      "outputs": [
        {
          "output_type": "stream",
          "name": "stdout",
          "text": [
            "홀수이고 9이상 199이하를 입력하세요 :199\n",
            "중간값을 찾을 수들을 입력하세요.:85 72 38 80 69 65 68 96 22 49 67 51 61 63 87 66 24 80 83 71 60 64 52 90 60 49 31 23 99 94 11 25 24 51 15 13 39 67 97 19 76 12 33 99 18 92 35 74 0 95 71 39 33 39 32 37 45 57 71 95 5 71 24 86 8 51 54 74 24 75 70 33 63 29 99 59 94 52 13 35 99 46 57 71 23 17 3 94 48 77 18 83 11 83 25 59 62 2 78 86 7 94 65 80 32 39 84 60 65 72 61 58 84 8 72 12 19 47 49 49 59 71 52 34 22 21 20 92 33 80 39 74 9 28 97 100 93 29 25 4 66 79 81 98 21 91 62 82 4 59 100 34 1 51 80 92 69 77 39 38 97 51 34 35 19 22 1 67 9 90 31 82 11 51 84 78 70 74 42 100 88 53 80 57 62 32 51 48 63 92 46 4 61 31 98 69 52 88 20\n",
            "58\n"
          ]
        }
      ]
    },
    {
      "cell_type": "markdown",
      "source": [
        "______________________"
      ],
      "metadata": {
        "id": "eqlflqznCzAQ"
      }
    },
    {
      "cell_type": "markdown",
      "source": [
        "\n",
        "________________________"
      ],
      "metadata": {
        "id": "OVC2KSKmC4Ba"
      }
    },
    {
      "cell_type": "markdown",
      "source": [
        "# D1 : 2072. 홀수만 더하기"
      ],
      "metadata": {
        "id": "gYAtmMHDrI-U"
      }
    },
    {
      "cell_type": "code",
      "source": [
        "for i in  range(1,int(input())+1):\n",
        "  nums = list(map(int, input().split()))\n",
        "\n",
        "  odd = 0\n",
        "  for j in range(len(nums)):\n",
        "    if nums[j] % 2 == 1 :\n",
        "      odd = odd + nums[j]\n",
        "\n",
        "  print(\"#%d\" %i,odd)"
      ],
      "metadata": {
        "colab": {
          "base_uri": "https://localhost:8080/"
        },
        "id": "j-hgPzT74tRb",
        "outputId": "b9463795-8e67-4c79-e802-958d5e6dff4a"
      },
      "execution_count": null,
      "outputs": [
        {
          "output_type": "stream",
          "name": "stdout",
          "text": [
            "1\n",
            "1 2 3 4 5 6 7 8 9 10\n",
            "#1 25\n"
          ]
        }
      ]
    },
    {
      "cell_type": "code",
      "source": [
        "1+3+5+7+9"
      ],
      "metadata": {
        "colab": {
          "base_uri": "https://localhost:8080/"
        },
        "id": "jKn4Hs7n4tyz",
        "outputId": "97bfdc1a-2fd0-462b-f248-4f5d6e2fc4c7"
      },
      "execution_count": null,
      "outputs": [
        {
          "output_type": "execute_result",
          "data": {
            "text/plain": [
              "25"
            ]
          },
          "metadata": {},
          "execution_count": 36
        }
      ]
    },
    {
      "cell_type": "markdown",
      "source": [
        "# D1 : 2071. 평균값 구하기"
      ],
      "metadata": {
        "id": "9CBFQG5t_gta"
      }
    },
    {
      "cell_type": "code",
      "source": [
        "for i in  range(1,int(input())+1):\n",
        "  nums = list(map(int, input().split()))\n",
        "  mean = 0\n",
        "  for j in range(len(nums)):\n",
        "    mean += nums[j]\n",
        "  means = round(mean / len(nums),0)\n",
        "  print(\"#%d\" %i,\"{0:.0f}\".format(means))"
      ],
      "metadata": {
        "colab": {
          "base_uri": "https://localhost:8080/"
        },
        "id": "mCPO4L7-9tjd",
        "outputId": "375a9472-a999-4602-97b5-4b142a1e4d18"
      },
      "execution_count": null,
      "outputs": [
        {
          "output_type": "stream",
          "name": "stdout",
          "text": [
            "1\n",
            "3 17 1 39 8 41 2 32 99 2\n",
            "#1 24\n"
          ]
        }
      ]
    },
    {
      "cell_type": "markdown",
      "source": [
        "___"
      ],
      "metadata": {
        "id": "AkfUowgdro4R"
      }
    },
    {
      "cell_type": "markdown",
      "source": [
        "# D1 : 2070. 큰 놈, 작은 놈, 같은 놈"
      ],
      "metadata": {
        "id": "dEV1GKLarmwm"
      }
    },
    {
      "cell_type": "code",
      "source": [
        "T = int(input())\n",
        "\n",
        "for i in range(1, T+1):\n",
        "  a, b = map(int, input().split())\n",
        "  if a > b :\n",
        "    print(\"#%d\" %i , \">\")\n",
        "  elif a < b :\n",
        "    print(\"#%d\" %i , \"<\")\n",
        "  else :\n",
        "    print(\"#%d\" %i , \"=\")\n"
      ],
      "metadata": {
        "id": "pXLQlQ0G-7N4",
        "colab": {
          "base_uri": "https://localhost:8080/"
        },
        "outputId": "4ad51114-3fbf-420b-8352-f3b22922af10"
      },
      "execution_count": null,
      "outputs": [
        {
          "output_type": "stream",
          "name": "stdout",
          "text": [
            "1\n",
            "1 3\n",
            "#1 <\n"
          ]
        }
      ]
    },
    {
      "cell_type": "markdown",
      "source": [
        "_________"
      ],
      "metadata": {
        "id": "AJBdwqwZt6cC"
      }
    },
    {
      "cell_type": "markdown",
      "source": [
        "# D1 : 2068. 최대수 구하기"
      ],
      "metadata": {
        "id": "YYEcbBy4t8Dp"
      }
    },
    {
      "cell_type": "code",
      "source": [
        "T = int(input())\n",
        "\n",
        "for i in range(1,T+1):\n",
        "  nums = list(map(int, input().split()))\n",
        "  print(\"#%d\" %i , max(nums))\n",
        "\n"
      ],
      "metadata": {
        "colab": {
          "base_uri": "https://localhost:8080/"
        },
        "id": "-WENz_FXskzF",
        "outputId": "5f0232c2-95b7-43d7-f83b-001fc7798d18"
      },
      "execution_count": null,
      "outputs": [
        {
          "output_type": "stream",
          "name": "stdout",
          "text": [
            "3\n",
            "3 17 1 39 8 41 2 32 99 2\n",
            "#1 99\n",
            "22 8 5 123 7 2 63 7 3 46\n",
            "#2 123\n",
            "22 8 5 123 7 2 63 7 3 46\n",
            "#3 123\n"
          ]
        }
      ]
    },
    {
      "cell_type": "markdown",
      "source": [
        "---"
      ],
      "metadata": {
        "id": "V8rBQLdI1MVq"
      }
    },
    {
      "cell_type": "markdown",
      "source": [
        "# D1 : 2050. 알파벳을 숫자로 변환 !?"
      ],
      "metadata": {
        "id": "S2w1pO603weC"
      }
    },
    {
      "cell_type": "code",
      "source": [
        "w = list(input())\n",
        "for i in range(len(w)):\n",
        "  if w[i] == 'A':\n",
        "    w[i] = 1\n",
        "  elif w[i] == 'B':\n",
        "    w[i] = 2\n",
        "  elif w[i] == 'C':\n",
        "    w[i] = 3\n",
        "  elif w[i] == 'D':\n",
        "    w[i] = 4\n",
        "  elif w[i] == 'E':\n",
        "    w[i] = 5\n",
        "  elif w[i] == 'F':\n",
        "    w[i] = 6\n",
        "  elif w[i] == 'G':\n",
        "    w[i] = 7\n",
        "  elif w[i] == 'H':\n",
        "    w[i] = 8\n",
        "  elif w[i] == 'I':\n",
        "    w[i] = 9\n",
        "  elif w[i] == 'J':\n",
        "    w[i] = 10\n",
        "  elif w[i] == 'K':\n",
        "    w[i] = 11\n",
        "  elif w[i] == 'L':\n",
        "    w[i] = 12\n",
        "  elif w[i] == 'M':\n",
        "    w[i] = 13\n",
        "  elif w[i] == 'N':\n",
        "    w[i] = 14\n",
        "  elif w[i] == 'O':\n",
        "    w[i] = 15\n",
        "  elif w[i] == 'P':\n",
        "    w[i] = 16\n",
        "  elif w[i] == 'Q':\n",
        "    w[i] = 17\n",
        "  elif w[i] == 'R':\n",
        "    w[i] = 18\n",
        "  elif w[i] == 'S':\n",
        "    w[i] = 19\n",
        "  elif w[i] == 'T':\n",
        "    w[i] = 20\n",
        "  elif w[i] == 'U':\n",
        "    w[i] = 21\n",
        "  elif w[i] == 'V':\n",
        "    w[i] = 22\n",
        "  elif w[i] == 'W':\n",
        "    w[i] = 23\n",
        "  elif w[i] == 'X':\n",
        "    w[i] = 24\n",
        "  elif w[i] == 'Y':\n",
        "    w[i] = 25\n",
        "  else :\n",
        "    w[i] = 26\n",
        "print(*w)"
      ],
      "metadata": {
        "colab": {
          "base_uri": "https://localhost:8080/"
        },
        "id": "L85N9gU7dmVy",
        "outputId": "382e2cfb-4a6e-4431-b5cb-0fe8b82ce9a8"
      },
      "execution_count": 3,
      "outputs": [
        {
          "output_type": "stream",
          "name": "stdout",
          "text": [
            "ABCDEFGHIJKLMNOPQRSTUVWXYZ\n",
            "1 2 3 4 5 6 7 8 9 10 11 12 13 14 15 16 17 18 19 20 21 22 23 24 25 26\n"
          ]
        }
      ]
    },
    {
      "cell_type": "markdown",
      "source": [
        "---"
      ],
      "metadata": {
        "id": "ZAyod-LFAQS5"
      }
    },
    {
      "cell_type": "markdown",
      "source": [
        "D1 : 2047\n",
        "\n",
        "- 신문 헤드라인"
      ],
      "metadata": {
        "id": "r3nHOpBOLEXK"
      }
    },
    {
      "cell_type": "code",
      "source": [
        "print(input().upper())"
      ],
      "metadata": {
        "colab": {
          "base_uri": "https://localhost:8080/"
        },
        "id": "qa1naaQgLHN5",
        "outputId": "418e9180-4a20-4e90-a534-db663aa1eca5"
      },
      "execution_count": 10,
      "outputs": [
        {
          "output_type": "stream",
          "name": "stdout",
          "text": [
            "The_headline_is_the_text_indicating_the_nature_of_the_article_below_it.\n",
            "THE_HEADLINE_IS_THE_TEXT_INDICATING_THE_NATURE_OF_THE_ARTICLE_BELOW_IT.\n"
          ]
        }
      ]
    },
    {
      "cell_type": "markdown",
      "source": [
        "---"
      ],
      "metadata": {
        "id": "D7K2MSl1NI3V"
      }
    },
    {
      "cell_type": "markdown",
      "source": [
        "# D1 : 2046. 스탬프 찍기"
      ],
      "metadata": {
        "id": "EXVEhKkvMzYp"
      }
    },
    {
      "cell_type": "code",
      "source": [
        "print('#'*int(input()))"
      ],
      "metadata": {
        "colab": {
          "base_uri": "https://localhost:8080/"
        },
        "id": "Gz9L3dV4OfHN",
        "outputId": "427f2e3c-66a1-442c-9080-cd24d2b700e8"
      },
      "execution_count": 12,
      "outputs": [
        {
          "output_type": "stream",
          "name": "stdout",
          "text": [
            "3\n",
            "###\n"
          ]
        }
      ]
    },
    {
      "cell_type": "markdown",
      "source": [
        "---"
      ],
      "metadata": {
        "id": "qVvlfQSwPBtI"
      }
    },
    {
      "cell_type": "markdown",
      "source": [
        "# D1 : 2029. 몫과 나머지 출력하기"
      ],
      "metadata": {
        "id": "UIEqO-iNPBob"
      }
    },
    {
      "cell_type": "code",
      "source": [
        "T = int(input())\n",
        "for i in range(1, T+1):\n",
        "  a ,b = map(int, input().split())\n",
        "  print(\"#%d\" %i , a//b , a%b)\n"
      ],
      "metadata": {
        "colab": {
          "base_uri": "https://localhost:8080/"
        },
        "id": "EJyjZrD-Pfi6",
        "outputId": "43531dd9-7370-429d-a3f4-2d3f68d93935"
      },
      "execution_count": 14,
      "outputs": [
        {
          "output_type": "stream",
          "name": "stdout",
          "text": [
            "3\n",
            "9 2\n",
            "#1 4 1\n",
            "15 6\n",
            "#2 2 3\n",
            "369 15\n",
            "#3 24 9\n"
          ]
        }
      ]
    },
    {
      "cell_type": "markdown",
      "source": [
        "---"
      ],
      "metadata": {
        "id": "iQkPXmrBTw0u"
      }
    },
    {
      "cell_type": "markdown",
      "source": [
        "# D1 : 1938. 아주 간단한 계산기 !?"
      ],
      "metadata": {
        "id": "6kAFr6QDVGOL"
      }
    },
    {
      "cell_type": "code",
      "source": [
        "a ,b = map(int, input().split())\n",
        "cal = []\n",
        "cal.append(a + b)\n",
        "cal.append(a - b)\n",
        "cal.append(a * b)\n",
        "cal.append(a // b)\n",
        "for i in range(4):\n",
        "  print(cal[i])"
      ],
      "metadata": {
        "colab": {
          "base_uri": "https://localhost:8080/"
        },
        "id": "KHnPdKy0VIK7",
        "outputId": "61fd19b5-713f-45d6-cc6a-7ca0a188f5b8"
      },
      "execution_count": 20,
      "outputs": [
        {
          "output_type": "stream",
          "name": "stdout",
          "text": [
            "8 3\n",
            "11\n",
            "5\n",
            "24\n",
            "2\n"
          ]
        }
      ]
    },
    {
      "cell_type": "markdown",
      "source": [
        "---"
      ],
      "metadata": {
        "id": "kxDHE2YtYPxk"
      }
    },
    {
      "cell_type": "markdown",
      "source": [
        "# D1 : 1545. 거꾸로 출력해 보아요"
      ],
      "metadata": {
        "id": "zy0M1RupZXiQ"
      }
    },
    {
      "cell_type": "code",
      "source": [
        "print(*(list(range(int(input())+1))[::-1]))"
      ],
      "metadata": {
        "colab": {
          "base_uri": "https://localhost:8080/"
        },
        "id": "avAc07AkZamo",
        "outputId": "9cf4391b-9eeb-4e8e-be8b-a6f44387f7a6"
      },
      "execution_count": 24,
      "outputs": [
        {
          "output_type": "stream",
          "name": "stdout",
          "text": [
            "8\n",
            "8 7 6 5 4 3 2 1 0\n"
          ]
        }
      ]
    },
    {
      "cell_type": "markdown",
      "source": [
        "---"
      ],
      "metadata": {
        "id": "tQudIVEDcOt1"
      }
    },
    {
      "cell_type": "markdown",
      "source": [
        "# D1 : 2025. N줄덧셈"
      ],
      "metadata": {
        "id": "2T5npiDDcOt2"
      }
    },
    {
      "cell_type": "code",
      "source": [
        "print(sum(range(int(input())+1)))"
      ],
      "metadata": {
        "colab": {
          "base_uri": "https://localhost:8080/"
        },
        "id": "SvK2vosEaKwL",
        "outputId": "7c95ea68-c509-4c72-eff9-2bd82a6178c1"
      },
      "execution_count": 26,
      "outputs": [
        {
          "name": "stdout",
          "output_type": "stream",
          "text": [
            "10\n"
          ]
        },
        {
          "output_type": "execute_result",
          "data": {
            "text/plain": [
              "55"
            ]
          },
          "metadata": {},
          "execution_count": 26
        }
      ]
    },
    {
      "cell_type": "markdown",
      "source": [
        "---"
      ],
      "metadata": {
        "id": "6ToUjgejc9rA"
      }
    },
    {
      "cell_type": "markdown",
      "source": [
        "# D1 : 1933. 간단한 N 의 약수"
      ],
      "metadata": {
        "id": "bM2xqUh0c9rB"
      }
    },
    {
      "cell_type": "code",
      "source": [
        "N = int(input())\n",
        "for i in range(1, N+1):\n",
        "  if N%i == 0:\n",
        "    print(i , end=\" \")"
      ],
      "metadata": {
        "colab": {
          "base_uri": "https://localhost:8080/"
        },
        "id": "JKzbtOXxcl6e",
        "outputId": "f2f7a6c6-4e73-4b34-e60e-c7913ad59cdb"
      },
      "execution_count": 28,
      "outputs": [
        {
          "output_type": "stream",
          "name": "stdout",
          "text": [
            "10\n",
            "1 2 5 10 "
          ]
        }
      ]
    },
    {
      "cell_type": "markdown",
      "source": [
        "---"
      ],
      "metadata": {
        "id": "XeOrehGFgBZO"
      }
    },
    {
      "cell_type": "markdown",
      "source": [
        "# D1 : 2019. 더블더블"
      ],
      "metadata": {
        "id": "ZRLzCJBsgBZO"
      }
    },
    {
      "cell_type": "code",
      "source": [
        "for i in range(int(input())+1):\n",
        "  print(2 ** i , end=\" \")"
      ],
      "metadata": {
        "colab": {
          "base_uri": "https://localhost:8080/"
        },
        "id": "0uTd7hVsf5Lr",
        "outputId": "7ecf502a-61ee-48d8-d6bb-c0c26ccddbea"
      },
      "execution_count": 32,
      "outputs": [
        {
          "output_type": "stream",
          "name": "stdout",
          "text": [
            "8\n",
            "1 2 4 8 16 32 64 128 256 "
          ]
        }
      ]
    },
    {
      "cell_type": "markdown",
      "source": [
        "---"
      ],
      "metadata": {
        "id": "u--uHtzKiAuB"
      }
    },
    {
      "cell_type": "markdown",
      "source": [
        "# D1 : 2027. 대각선 출력하기"
      ],
      "metadata": {
        "id": "Etp99P-Fh33P"
      }
    },
    {
      "cell_type": "code",
      "source": [
        "# ????????????????\n",
        "print(\"#++++\")\n",
        "print(\"+#+++\")\n",
        "print(\"++#++\")\n",
        "print(\"+++#+\")\n",
        "print(\"++++#\")"
      ],
      "metadata": {
        "colab": {
          "base_uri": "https://localhost:8080/"
        },
        "outputId": "6bd39750-f9b0-4573-9e84-e3fbb0562d07",
        "id": "5K5GCAYbh33c"
      },
      "execution_count": 33,
      "outputs": [
        {
          "output_type": "stream",
          "name": "stdout",
          "text": [
            "#++++\n"
          ]
        }
      ]
    },
    {
      "cell_type": "markdown",
      "source": [
        "---"
      ],
      "metadata": {
        "id": "dmF0wnvHifMr"
      }
    },
    {
      "cell_type": "markdown",
      "source": [
        "# D1 : 2043. 서랍의 비밀번호"
      ],
      "metadata": {
        "id": "FQ689-h8ifMr"
      }
    },
    {
      "cell_type": "code",
      "source": [
        "P , K = map(int,input().split())\n",
        "count = 1\n",
        "for i in range(K,1000):\n",
        "  if i != P :\n",
        "    count += 1\n",
        "  else :\n",
        "    print(count)\n"
      ],
      "metadata": {
        "colab": {
          "base_uri": "https://localhost:8080/"
        },
        "id": "j8rTuWtshAWU",
        "outputId": "28eccc5a-f587-4100-867b-a90e04698a51"
      },
      "execution_count": 39,
      "outputs": [
        {
          "output_type": "stream",
          "name": "stdout",
          "text": [
            "123 100\n",
            "24\n"
          ]
        }
      ]
    },
    {
      "cell_type": "markdown",
      "source": [
        "---"
      ],
      "metadata": {
        "id": "qs3hDZ2gkdHj"
      }
    },
    {
      "cell_type": "markdown",
      "source": [
        "# D1 : 2056. 연월일 달력"
      ],
      "metadata": {
        "id": "8nDyXZRekdHj"
      }
    },
    {
      "cell_type": "code",
      "source": [
        "T = int(input())\n",
        "\n",
        "for i in range(1 ,T+1):\n",
        "  num = list(input())\n",
        "\n",
        "  year = list(map(int,num[0:4]))\n",
        "  year1 = ''\n",
        "  for j in range(0,4):\n",
        "    year1 += str(year[j])\n",
        "\n",
        "  month = list(map(int,num[4:6]))\n",
        "  month1 = ''\n",
        "  for j in [0,1]:\n",
        "    month1 += str(month[j])\n",
        "\n",
        "  day = list(map(int,num[6:]))\n",
        "  day1 = ''\n",
        "  for j in [0,1]:\n",
        "    day1 += str(day[j])\n",
        "  \n",
        "  if int(month1) >12 or int(month1) < 1 :\n",
        "    print(\"#%d\" %i , \"-1\")\n",
        "\n",
        "  elif int(month1) == 2 :\n",
        "    if 0 < int(day1) < 29 :\n",
        "      print(\"#%d\" %i , end=\" \")\n",
        "      print(year1,\"/\",month1,\"/\",day1 , sep=\"\")\n",
        "    else :\n",
        "      print(\"#%d\" %i , \"-1\")\n",
        "\n",
        "  elif  int(month1) == 1 or 3 or 5 or 7 or 8 or 10 or 12 : \n",
        "    if 0 < int(day1) < 32 :\n",
        "      print(\"#%d\" %i , end=\" \")\n",
        "      print(year1,\"/\",month1,\"/\",day1 , sep=\"\")\n",
        "    else :\n",
        "      print(\"#%d\" %i , \"-1\")\n",
        "\n",
        "  elif  int(month1) == 4 or 6 or 9 or 11 : \n",
        "    if 0 < int(day1) < 31 :\n",
        "      print(\"#%d\" %i , end=\" \")\n",
        "      print(year1,\"/\",month1,\"/\",day1 , sep=\"\")\n",
        "    else :\n",
        "      print(\"#%d\" %i , \"-1\")"
      ],
      "metadata": {
        "colab": {
          "base_uri": "https://localhost:8080/"
        },
        "id": "FPcS-BSyl0fs",
        "outputId": "8fb7f1cc-d6b8-4cb9-fc37-d85ff5c725fe"
      },
      "execution_count": 79,
      "outputs": [
        {
          "output_type": "stream",
          "name": "stdout",
          "text": [
            "2\n",
            "22220228\n",
            "#1 2222/02/28\n",
            "20150002\n",
            "#2 -1\n"
          ]
        }
      ]
    },
    {
      "cell_type": "code",
      "source": [
        ""
      ],
      "metadata": {
        "id": "QnP6khNR2N_3"
      },
      "execution_count": null,
      "outputs": []
    }
  ]
}
